{
 "cells": [
  {
   "cell_type": "markdown",
   "id": "707cfca6",
   "metadata": {},
   "source": [
    "# Aide à l'ajout d'exercices dans l'assistant TD"
   ]
  },
  {
   "cell_type": "markdown",
   "id": "271b0573",
   "metadata": {},
   "source": [
    "### Chargement et copie (au cas où) du json initial (pas touche)"
   ]
  },
  {
   "cell_type": "code",
   "execution_count": 1,
   "id": "bc33c930",
   "metadata": {},
   "outputs": [],
   "source": [
    "import json\n",
    "\n",
    "json_path = \"exercises.json\"\n",
    "\n",
    "with open('exercises.json') as inf:\n",
    "    chapters_content = json.load(inf)\n",
    "\n",
    "with open(\"exercises_save.json\", \"w\") as outf:\n",
    "    json.dump(chapters_content, outf, ensure_ascii=False)"
   ]
  },
  {
   "cell_type": "markdown",
   "id": "406ef2cf",
   "metadata": {},
   "source": [
    "### Etape 1 (optionnelle) : Ajout d'un nouveau chapitre\n",
    "Faire cette étape lorsque l'exercice que tu veux ajouter appartient à un nouveau chapitre, qui n'a pas encore été ajouté à l'app."
   ]
  },
  {
   "cell_type": "code",
   "execution_count": 2,
   "id": "42bbf29a",
   "metadata": {},
   "outputs": [
    {
     "data": {
      "text/plain": [
       "{'1': {'chapter_name': 'Chapitre 1 : chiffres',\n",
       "  'exercises': {'1': {'hints': {'1': 'Vérifier soigneusement les hypothèses du théorème de la bijection strictement monotone. On fera attention aux intervalles entre lesquels $f$ réalise une bijection.',\n",
       "     '2': 'Remarquer que $f(x_{n+1}) > f(x_n)$ et exploiter les propriétés de $f$. Montrer d’abord l’inégalité de droite en exploitant la positivité de $x_n$.',\n",
       "     '3': \"Essayer d'utiliser les théorèmes de minoration et d’encadrement.\"}},\n",
       "   '2': {'hints': {'1': \"L'indice 1 s'affiche\",\n",
       "     '2': \"L'indice 2 s'affiche\",\n",
       "     '3': \"L'indice 3 s'affiche\",\n",
       "     '4': \"L'indice 4 s'affiche\"}}}},\n",
       " '2': {'chapter_name': 'Chapitre 2 : lettres',\n",
       "  'exercises': {'1': {'hints': {'1': \"L'indice 1 s'affiche\",\n",
       "     '2': \"L'indice 2 s'affiche\"}},\n",
       "   '2': {'hints': {'1': \"L'indice 1 s'affiche\",\n",
       "     '2': \"L'indice 2 s'affiche\",\n",
       "     '3': \"L'indice 3 s'affiche\"}}}},\n",
       " '3': {'chapter_name': 'Chapitre 3 : fonctions',\n",
       "  'exercises': {'1': {'hints': {'1': \"L'indice 1 s'affiche\",\n",
       "     '2': \"L'indice 2 s'affiche\",\n",
       "     '3': \"L'indice 3 s'affiche\"}}}},\n",
       " '4': {'chapter_name': 'Chapitre 4 : géométrie', 'exercises': {}}}"
      ]
     },
     "execution_count": 2,
     "metadata": {},
     "output_type": "execute_result"
    }
   ],
   "source": [
    "# Rentre les infos de ton nouveau chapitre\n",
    "chapter_number = 4\n",
    "chapter_name = \"Chapitre 4 : géométrie\"\n",
    "\n",
    "# Ajout au json (pas touche)\n",
    "chapters_content[str(chapter_number)] = {\n",
    "    \"chapter_name\": chapter_name,\n",
    "    \"exercises\": {}\n",
    "}\n",
    "\n",
    "chapters_content"
   ]
  },
  {
   "cell_type": "markdown",
   "id": "44d51ea9",
   "metadata": {},
   "source": [
    "### Etape 2 : Ajout d'un nouvel exercice\n",
    "Dans un chapitre qui existait déjà, ou qui vient d'être ajouté à l'étape 1"
   ]
  },
  {
   "cell_type": "code",
   "execution_count": 3,
   "id": "dee8a66e",
   "metadata": {},
   "outputs": [
    {
     "data": {
      "text/plain": [
       "{'chapter_name': 'Chapitre 1 : chiffres',\n",
       " 'exercises': {'1': {'hints': {'1': 'Vérifier soigneusement les hypothèses du théorème de la bijection strictement monotone. On fera attention aux intervalles entre lesquels $f$ réalise une bijection.',\n",
       "    '2': 'Remarquer que $f(x_{n+1}) > f(x_n)$ et exploiter les propriétés de $f$. Montrer d’abord l’inégalité de droite en exploitant la positivité de $x_n$.',\n",
       "    '3': \"Essayer d'utiliser les théorèmes de minoration et d’encadrement.\"}},\n",
       "  '2': {'hints': {'1': 'Vérifier soigneusement les hypothèses du théorème de la bijection strictement monotone. \\n On fera attention aux intervalles entre lesquels $f$ réalise une bijection.',\n",
       "    '2': 'Remarquer que $f(x_{n+1}) > f(x_n)$ et exploiter les propriétés de $f$. \\n Montrer d’abord l’inégalité de droite en exploitant la positivité de $x_n$.',\n",
       "    '3': \"Essayer d'utiliser les théorèmes de minoration et d’encadrement.\"}}}}"
      ]
     },
     "execution_count": 3,
     "metadata": {},
     "output_type": "execute_result"
    }
   ],
   "source": [
    "# Rentre les infos de ton nouvel exercice - j'ai mis des exemples pour bien comprendre\n",
    "chapter_number = 1\n",
    "chapter_name = \"Chapitre 1 : chiffres\"\n",
    "exercise_number = 2\n",
    "hints = [\n",
    "    \"Vérifier soigneusement les hypothèses du théorème de la bijection strictement monotone. \\n On fera attention aux intervalles entre lesquels $f$ réalise une bijection.\",\n",
    "    \"Remarquer que $f(x_{n+1}) > f(x_n)$ et exploiter les propriétés de $f$. \\n Montrer d’abord l’inégalité de droite en exploitant la positivité de $x_n$.\",\n",
    "    \"Essayer d'utiliser les théorèmes de minoration et d’encadrement.\"\n",
    "]\n",
    "\n",
    "# Ajout au json (pas touche)\n",
    "formatted_hints = {str(i+1) : hint for i, hint in enumerate(hints)}\n",
    "chapters_content[str(chapter_number)][\"exercises\"][str(exercise_number)] = {\n",
    "    \"hints\": formatted_hints\n",
    "}\n",
    "\n",
    "chapters_content[str(chapter_number)]"
   ]
  },
  {
   "cell_type": "markdown",
   "id": "f941eb45",
   "metadata": {},
   "source": [
    "### Etape 3 : Recommencer les étapes 1 (optionnel) et 2 pour ajouter de nouveaux exercices"
   ]
  },
  {
   "cell_type": "markdown",
   "id": "1337690b",
   "metadata": {},
   "source": [
    "### Etape 4 : Génération du json final\n",
    "A ne faire tourner que lorsque toutes les autres cellules ont tourné\n"
   ]
  },
  {
   "cell_type": "code",
   "execution_count": 4,
   "id": "22824321",
   "metadata": {},
   "outputs": [],
   "source": [
    "with open(\"exercises.json\", \"w\") as outf:\n",
    "    json.dump(chapters_content, outf, ensure_ascii=False)"
   ]
  }
 ],
 "metadata": {
  "kernelspec": {
   "display_name": "Python 3",
   "language": "python",
   "name": "python3"
  },
  "language_info": {
   "codemirror_mode": {
    "name": "ipython",
    "version": 3
   },
   "file_extension": ".py",
   "mimetype": "text/x-python",
   "name": "python",
   "nbconvert_exporter": "python",
   "pygments_lexer": "ipython3",
   "version": "3.11.13"
  }
 },
 "nbformat": 4,
 "nbformat_minor": 5
}
